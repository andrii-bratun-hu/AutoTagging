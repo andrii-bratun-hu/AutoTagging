{
 "cells": [
  {
   "cell_type": "markdown",
   "metadata": {},
   "source": [
    "# Imports"
   ]
  },
  {
   "cell_type": "code",
   "execution_count": 1,
   "metadata": {},
   "outputs": [
    {
     "data": {
      "text/html": [
       "<style>.container { width:90% !important; }</style>"
      ],
      "text/plain": [
       "<IPython.core.display.HTML object>"
      ]
     },
     "metadata": {},
     "output_type": "display_data"
    }
   ],
   "source": [
    "from IPython.core.display import display, HTML\n",
    "display(HTML(\"<style>.container { width:90% !important; }</style>\"))"
   ]
  },
  {
   "cell_type": "code",
   "execution_count": 2,
   "metadata": {},
   "outputs": [],
   "source": [
    "import warnings\n",
    "warnings.filterwarnings(\"ignore\")"
   ]
  },
  {
   "cell_type": "code",
   "execution_count": 3,
   "metadata": {},
   "outputs": [],
   "source": [
    "import pandas as pd\n",
    "import numpy as np\n",
    "\n",
    "import tqdm\n",
    "tqdm.tqdm.pandas()"
   ]
  },
  {
   "cell_type": "markdown",
   "metadata": {},
   "source": [
    "# Pull posts data from snowflake"
   ]
  },
  {
   "cell_type": "code",
   "execution_count": 4,
   "metadata": {},
   "outputs": [],
   "source": [
    "from utils.get_data import get_posts"
   ]
  },
  {
   "cell_type": "code",
   "execution_count": 5,
   "metadata": {},
   "outputs": [],
   "source": [
    "query = \"\"\"\n",
    "    SELECT distinct post_content || 'post_id: ' || post_id as post_content\n",
    "        , post_id || '_' || site_prefix post_id\n",
    "    FROM prod.\"posts\"\n",
    "    WHERE post_status = 'publish' and post_type = 'post'\n",
    "    and site_prefix = 'WP'\n",
    "    ORDER BY POST_ID DESC\n",
    "    LIMIT 20000\n",
    "\"\"\""
   ]
  },
  {
   "cell_type": "code",
   "execution_count": 6,
   "metadata": {},
   "outputs": [],
   "source": [
    "posts_df = get_posts(query)"
   ]
  },
  {
   "cell_type": "code",
   "execution_count": 7,
   "metadata": {},
   "outputs": [
    {
     "data": {
      "text/html": [
       "<div>\n",
       "<style scoped>\n",
       "    .dataframe tbody tr th:only-of-type {\n",
       "        vertical-align: middle;\n",
       "    }\n",
       "\n",
       "    .dataframe tbody tr th {\n",
       "        vertical-align: top;\n",
       "    }\n",
       "\n",
       "    .dataframe thead th {\n",
       "        text-align: right;\n",
       "    }\n",
       "</style>\n",
       "<table border=\"1\" class=\"dataframe\">\n",
       "  <thead>\n",
       "    <tr style=\"text-align: right;\">\n",
       "      <th></th>\n",
       "      <th>POST_CONTENT</th>\n",
       "      <th>POST_ID</th>\n",
       "    </tr>\n",
       "  </thead>\n",
       "  <tbody>\n",
       "    <tr>\n",
       "      <th>0</th>\n",
       "      <td>As a big sister to four very sweet, hilarious,...</td>\n",
       "      <td>99918_WP</td>\n",
       "    </tr>\n",
       "    <tr>\n",
       "      <th>1</th>\n",
       "      <td>I spent my childhood growing up on a farm/ranc...</td>\n",
       "      <td>99917_WP</td>\n",
       "    </tr>\n",
       "    <tr>\n",
       "      <th>2</th>\n",
       "      <td>When am I going to get better at managing the ...</td>\n",
       "      <td>99841_WP</td>\n",
       "    </tr>\n",
       "    <tr>\n",
       "      <th>3</th>\n",
       "      <td>I know I am not alone in struggling to find a ...</td>\n",
       "      <td>99838_WP</td>\n",
       "    </tr>\n",
       "    <tr>\n",
       "      <th>4</th>\n",
       "      <td>If you:\\r\\n&lt;ul&gt;\\r\\n \\t&lt;li&gt;are new to migraine,...</td>\n",
       "      <td>99836_WP</td>\n",
       "    </tr>\n",
       "    <tr>\n",
       "      <th>...</th>\n",
       "      <td>...</td>\n",
       "      <td>...</td>\n",
       "    </tr>\n",
       "    <tr>\n",
       "      <th>3468</th>\n",
       "      <td>We asked our contributors a series of question...</td>\n",
       "      <td>100098_WP</td>\n",
       "    </tr>\n",
       "    <tr>\n",
       "      <th>3469</th>\n",
       "      <td>I feel as though I am always walking a fine li...</td>\n",
       "      <td>100073_WP</td>\n",
       "    </tr>\n",
       "    <tr>\n",
       "      <th>3470</th>\n",
       "      <td>I have used all &lt;a href=\"/migraine-treatment/t...</td>\n",
       "      <td>100062_WP</td>\n",
       "    </tr>\n",
       "    <tr>\n",
       "      <th>3471</th>\n",
       "      <td>and flooded a shared back hallway between a re...</td>\n",
       "      <td>100037_WP</td>\n",
       "    </tr>\n",
       "    <tr>\n",
       "      <th>3472</th>\n",
       "      <td>Although it is only half way through January, ...</td>\n",
       "      <td>100025_WP</td>\n",
       "    </tr>\n",
       "  </tbody>\n",
       "</table>\n",
       "<p>3473 rows × 2 columns</p>\n",
       "</div>"
      ],
      "text/plain": [
       "                                           POST_CONTENT    POST_ID\n",
       "0     As a big sister to four very sweet, hilarious,...   99918_WP\n",
       "1     I spent my childhood growing up on a farm/ranc...   99917_WP\n",
       "2     When am I going to get better at managing the ...   99841_WP\n",
       "3     I know I am not alone in struggling to find a ...   99838_WP\n",
       "4     If you:\\r\\n<ul>\\r\\n \\t<li>are new to migraine,...   99836_WP\n",
       "...                                                 ...        ...\n",
       "3468  We asked our contributors a series of question...  100098_WP\n",
       "3469  I feel as though I am always walking a fine li...  100073_WP\n",
       "3470  I have used all <a href=\"/migraine-treatment/t...  100062_WP\n",
       "3471  and flooded a shared back hallway between a re...  100037_WP\n",
       "3472  Although it is only half way through January, ...  100025_WP\n",
       "\n",
       "[3473 rows x 2 columns]"
      ]
     },
     "execution_count": 7,
     "metadata": {},
     "output_type": "execute_result"
    }
   ],
   "source": [
    "posts_df"
   ]
  },
  {
   "cell_type": "markdown",
   "metadata": {},
   "source": [
    "# Cleaning Post Text"
   ]
  },
  {
   "cell_type": "code",
   "execution_count": 8,
   "metadata": {},
   "outputs": [],
   "source": [
    "from utils.clean_text import remove_html, remove_between_square_brackets, remove_post_id, remove_backslash_symbols, remove_links"
   ]
  },
  {
   "cell_type": "code",
   "execution_count": 9,
   "metadata": {},
   "outputs": [
    {
     "name": "stderr",
     "output_type": "stream",
     "text": [
      "100%|██████████| 3473/3473 [00:03<00:00, 1002.25it/s]\n",
      "100%|██████████| 3473/3473 [00:00<00:00, 111135.15it/s]\n",
      "100%|██████████| 3473/3473 [00:00<00:00, 100346.62it/s]\n",
      "100%|██████████| 3473/3473 [00:00<00:00, 63186.74it/s]\n",
      "100%|██████████| 3473/3473 [00:00<00:00, 106396.26it/s]\n"
     ]
    }
   ],
   "source": [
    "posts_df.POST_CONTENT = posts_df.POST_CONTENT.progress_apply(lambda x: remove_html(x))\n",
    "posts_df.POST_CONTENT = posts_df.POST_CONTENT.progress_apply(lambda x: remove_between_square_brackets(x))\n",
    "posts_df.POST_CONTENT = posts_df.POST_CONTENT.progress_apply(lambda x: remove_post_id(x))\n",
    "posts_df.POST_CONTENT = posts_df.POST_CONTENT.progress_apply(lambda x: remove_backslash_symbols(x))\n",
    "posts_df.POST_CONTENT = posts_df.POST_CONTENT.progress_apply(lambda x: remove_links(x))"
   ]
  },
  {
   "cell_type": "markdown",
   "metadata": {},
   "source": [
    "# KeyBERT"
   ]
  },
  {
   "cell_type": "code",
   "execution_count": 10,
   "metadata": {},
   "outputs": [],
   "source": [
    "from keybert import KeyBERT"
   ]
  },
  {
   "cell_type": "code",
   "execution_count": 11,
   "metadata": {},
   "outputs": [],
   "source": [
    "kw_extraction_model = KeyBERT()"
   ]
  },
  {
   "cell_type": "code",
   "execution_count": 12,
   "metadata": {},
   "outputs": [
    {
     "data": {
      "text/plain": [
       "[('friends wedding', 0.6171),\n",
       " ('family wedding', 0.6143),\n",
       " ('wedding', 0.6008),\n",
       " ('quirky love weddings', 0.5975),\n",
       " ('family wedding pittsburgh', 0.5806),\n",
       " ('wedding trying good', 0.5768),\n",
       " ('present friends wedding', 0.5756),\n",
       " ('wedding pittsburgh', 0.5654),\n",
       " ('wedding trying', 0.5639),\n",
       " ('road family wedding', 0.5594),\n",
       " ('wedding yesterday evening', 0.5592),\n",
       " ('friends wedding vows', 0.5548),\n",
       " ('wedding yesterday', 0.5526),\n",
       " ('weddings', 0.5516),\n",
       " ('wedding hour outside', 0.5505),\n",
       " ('wedding pittsburgh ll', 0.5286),\n",
       " ('wedding hour', 0.5285),\n",
       " ('weddings really couple', 0.5281),\n",
       " ('love weddings', 0.5277),\n",
       " ('arrive wedding', 0.5205)]"
      ]
     },
     "execution_count": 12,
     "metadata": {},
     "output_type": "execute_result"
    }
   ],
   "source": [
    "kw_extraction_model.extract_keywords(posts_df.POST_CONTENT[706],\n",
    "                                     keyphrase_ngram_range=(1, 3), stop_words='english', top_n = 20)"
   ]
  },
  {
   "cell_type": "code",
   "execution_count": 13,
   "metadata": {},
   "outputs": [
    {
     "data": {
      "text/plain": [
       "[('wedding pittsburgh ll', 0.0817),\n",
       " ('wedding hour outside', 0.084),\n",
       " ('road family wedding', -0.0621),\n",
       " ('present friends wedding', 0.1843),\n",
       " ('wedding trying good', 0.0202)]"
      ]
     },
     "execution_count": 13,
     "metadata": {},
     "output_type": "execute_result"
    }
   ],
   "source": [
    "kw_extraction_model.extract_keywords(posts_df.POST_CONTENT[706],\n",
    "                                     keyphrase_ngram_range=(1, 3), stop_words='english',  use_maxsum=True, nr_candidates=20, top_n=5)"
   ]
  },
  {
   "cell_type": "code",
   "execution_count": 14,
   "metadata": {},
   "outputs": [
    {
     "name": "stdout",
     "output_type": "stream",
     "text": [
      "('trigger migraines dog', 0.5954)\n",
      "('adopting dog horrible', 0.528)\n",
      "('idea getting dogs', 0.5079)\n",
      "('dog mean stress', 0.4228)\n",
      "('care dog', 0.4041)\n",
      "('hankering dog asked', 0.3667)\n",
      "('elderly cats great', 0.3545)\n",
      "('advice heart thought', 0.2985)\n",
      "('gamble said dog', 0.2729)\n",
      "('feeling family missing', 0.2705)\n",
      "('need extra calming', 0.2453)\n",
      "('does bark pull', 0.2334)\n",
      "('behavioral issues thought', 0.2228)\n",
      "('bed struggling severe', 0.2097)\n",
      "('severe nausea vomiting', 0.183)\n",
      "('laugh smile pain', 0.1588)\n",
      "('great joy wellness', 0.1531)\n",
      "('sidelined career pain', 0.1412)\n",
      "('fence outside spend', 0.095)\n",
      "('dice years consideration', 0.0217)\n"
     ]
    }
   ],
   "source": [
    "kw_extracted = kw_extraction_model.extract_keywords(posts_df.POST_CONTENT[97],\n",
    "                                     keyphrase_ngram_range=(1, 3), stop_words='english', use_mmr=True, diversity=0.5, top_n = 20)\n",
    "kw_extracted.sort(key=lambda x:x[1], reverse=True)\n",
    "\n",
    "for i in kw_extracted:\n",
    "    print(i)"
   ]
  },
  {
   "cell_type": "markdown",
   "metadata": {},
   "source": [
    "# API call"
   ]
  },
  {
   "cell_type": "code",
   "execution_count": 8,
   "metadata": {},
   "outputs": [],
   "source": [
    "import requests\n",
    "import json"
   ]
  },
  {
   "cell_type": "code",
   "execution_count": 9,
   "metadata": {},
   "outputs": [],
   "source": [
    "payload = {\n",
    "  \"keywords_number\": 2,\n",
    "  \"post_ids\": posts_df.head(2).POST_ID.tolist(),\n",
    "  \"posts_content\": posts_df.head(2).POST_CONTENT.tolist()\n",
    "}"
   ]
  },
  {
   "cell_type": "code",
   "execution_count": 16,
   "metadata": {},
   "outputs": [
    {
     "name": "stdout",
     "output_type": "stream",
     "text": [
      "CPU times: user 5.85 ms, sys: 3.69 ms, total: 9.54 ms\n",
      "Wall time: 3.88 s\n"
     ]
    },
    {
     "data": {
      "text/plain": [
       "<Response [200]>"
      ]
     },
     "execution_count": 16,
     "metadata": {},
     "output_type": "execute_result"
    }
   ],
   "source": [
    "%%time\n",
    "response = requests.post('http://127.0.0.1:8000/api/autokeyword', json = payload)\n",
    "response"
   ]
  },
  {
   "cell_type": "code",
   "execution_count": 17,
   "metadata": {},
   "outputs": [
    {
     "data": {
      "text/plain": [
       "[['siblings kids migraine', 'facilitate exciting environments'],\n",
       " ['animals challenge ranch', 'young age attached']]"
      ]
     },
     "execution_count": 17,
     "metadata": {},
     "output_type": "execute_result"
    }
   ],
   "source": [
    "json.loads(response.text)['keywords']"
   ]
  },
  {
   "cell_type": "code",
   "execution_count": 18,
   "metadata": {},
   "outputs": [
    {
     "data": {
      "text/plain": [
       "['99918_WP', '99917_WP']"
      ]
     },
     "execution_count": 18,
     "metadata": {},
     "output_type": "execute_result"
    }
   ],
   "source": [
    "json.loads(response.text)[\"post_ids\"]"
   ]
  }
 ],
 "metadata": {
  "kernelspec": {
   "display_name": "Python 3",
   "language": "python",
   "name": "python3"
  },
  "language_info": {
   "codemirror_mode": {
    "name": "ipython",
    "version": 3
   },
   "file_extension": ".py",
   "mimetype": "text/x-python",
   "name": "python",
   "nbconvert_exporter": "python",
   "pygments_lexer": "ipython3",
   "version": "3.8.9"
  }
 },
 "nbformat": 4,
 "nbformat_minor": 2
}
