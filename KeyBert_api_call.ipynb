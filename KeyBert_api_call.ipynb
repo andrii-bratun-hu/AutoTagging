{
 "cells": [
  {
   "cell_type": "markdown",
   "metadata": {},
   "source": [
    "# Imports"
   ]
  },
  {
   "cell_type": "code",
   "execution_count": 1,
   "metadata": {},
   "outputs": [
    {
     "data": {
      "text/html": [
       "<style>.container { width:90% !important; }</style>"
      ],
      "text/plain": [
       "<IPython.core.display.HTML object>"
      ]
     },
     "metadata": {},
     "output_type": "display_data"
    }
   ],
   "source": [
    "from IPython.core.display import display, HTML\n",
    "display(HTML(\"<style>.container { width:90% !important; }</style>\"))"
   ]
  },
  {
   "cell_type": "code",
   "execution_count": 2,
   "metadata": {},
   "outputs": [],
   "source": [
    "import warnings\n",
    "warnings.filterwarnings(\"ignore\")"
   ]
  },
  {
   "cell_type": "code",
   "execution_count": 3,
   "metadata": {},
   "outputs": [],
   "source": [
    "import pandas as pd\n",
    "import numpy as np\n",
    "\n",
    "import tqdm\n",
    "tqdm.tqdm.pandas()"
   ]
  },
  {
   "cell_type": "markdown",
   "metadata": {},
   "source": [
    "# Pull posts data from snowflake"
   ]
  },
  {
   "cell_type": "code",
   "execution_count": 4,
   "metadata": {},
   "outputs": [],
   "source": [
    "from utils.get_data import get_posts"
   ]
  },
  {
   "cell_type": "code",
   "execution_count": 5,
   "metadata": {},
   "outputs": [],
   "source": [
    "query = \"\"\"\n",
    "    SELECT distinct post_content || 'post_id: ' || post_id as post_content\n",
    "        , post_id || '_' || site_prefix post_id\n",
    "    FROM prod.\"posts\"\n",
    "    WHERE post_status = 'publish' and post_type = 'post'\n",
    "    and site_prefix = 'WP'\n",
    "    ORDER BY POST_ID DESC\n",
    "    LIMIT 20000\n",
    "\"\"\""
   ]
  },
  {
   "cell_type": "code",
   "execution_count": 6,
   "metadata": {},
   "outputs": [],
   "source": [
    "posts_df = get_posts(query)"
   ]
  },
  {
   "cell_type": "code",
   "execution_count": 7,
   "metadata": {},
   "outputs": [
    {
     "data": {
      "text/html": [
       "<div>\n",
       "<style scoped>\n",
       "    .dataframe tbody tr th:only-of-type {\n",
       "        vertical-align: middle;\n",
       "    }\n",
       "\n",
       "    .dataframe tbody tr th {\n",
       "        vertical-align: top;\n",
       "    }\n",
       "\n",
       "    .dataframe thead th {\n",
       "        text-align: right;\n",
       "    }\n",
       "</style>\n",
       "<table border=\"1\" class=\"dataframe\">\n",
       "  <thead>\n",
       "    <tr style=\"text-align: right;\">\n",
       "      <th></th>\n",
       "      <th>POST_CONTENT</th>\n",
       "      <th>POST_ID</th>\n",
       "    </tr>\n",
       "  </thead>\n",
       "  <tbody>\n",
       "    <tr>\n",
       "      <th>0</th>\n",
       "      <td>As a big sister to four very sweet, hilarious,...</td>\n",
       "      <td>99918_WP</td>\n",
       "    </tr>\n",
       "    <tr>\n",
       "      <th>1</th>\n",
       "      <td>I spent my childhood growing up on a farm/ranc...</td>\n",
       "      <td>99917_WP</td>\n",
       "    </tr>\n",
       "    <tr>\n",
       "      <th>2</th>\n",
       "      <td>When am I going to get better at managing the ...</td>\n",
       "      <td>99841_WP</td>\n",
       "    </tr>\n",
       "    <tr>\n",
       "      <th>3</th>\n",
       "      <td>I know I am not alone in struggling to find a ...</td>\n",
       "      <td>99838_WP</td>\n",
       "    </tr>\n",
       "    <tr>\n",
       "      <th>4</th>\n",
       "      <td>If you:\\r\\n&lt;ul&gt;\\r\\n \\t&lt;li&gt;are new to migraine,...</td>\n",
       "      <td>99836_WP</td>\n",
       "    </tr>\n",
       "    <tr>\n",
       "      <th>...</th>\n",
       "      <td>...</td>\n",
       "      <td>...</td>\n",
       "    </tr>\n",
       "    <tr>\n",
       "      <th>3467</th>\n",
       "      <td>We asked our contributors a series of question...</td>\n",
       "      <td>100098_WP</td>\n",
       "    </tr>\n",
       "    <tr>\n",
       "      <th>3468</th>\n",
       "      <td>I feel as though I am always walking a fine li...</td>\n",
       "      <td>100073_WP</td>\n",
       "    </tr>\n",
       "    <tr>\n",
       "      <th>3469</th>\n",
       "      <td>I have used all &lt;a href=\"/migraine-treatment/t...</td>\n",
       "      <td>100062_WP</td>\n",
       "    </tr>\n",
       "    <tr>\n",
       "      <th>3470</th>\n",
       "      <td>and flooded a shared back hallway between a re...</td>\n",
       "      <td>100037_WP</td>\n",
       "    </tr>\n",
       "    <tr>\n",
       "      <th>3471</th>\n",
       "      <td>Although it is only half way through January, ...</td>\n",
       "      <td>100025_WP</td>\n",
       "    </tr>\n",
       "  </tbody>\n",
       "</table>\n",
       "<p>3472 rows × 2 columns</p>\n",
       "</div>"
      ],
      "text/plain": [
       "                                           POST_CONTENT    POST_ID\n",
       "0     As a big sister to four very sweet, hilarious,...   99918_WP\n",
       "1     I spent my childhood growing up on a farm/ranc...   99917_WP\n",
       "2     When am I going to get better at managing the ...   99841_WP\n",
       "3     I know I am not alone in struggling to find a ...   99838_WP\n",
       "4     If you:\\r\\n<ul>\\r\\n \\t<li>are new to migraine,...   99836_WP\n",
       "...                                                 ...        ...\n",
       "3467  We asked our contributors a series of question...  100098_WP\n",
       "3468  I feel as though I am always walking a fine li...  100073_WP\n",
       "3469  I have used all <a href=\"/migraine-treatment/t...  100062_WP\n",
       "3470  and flooded a shared back hallway between a re...  100037_WP\n",
       "3471  Although it is only half way through January, ...  100025_WP\n",
       "\n",
       "[3472 rows x 2 columns]"
      ]
     },
     "execution_count": 7,
     "metadata": {},
     "output_type": "execute_result"
    }
   ],
   "source": [
    "posts_df"
   ]
  },
  {
   "cell_type": "markdown",
   "metadata": {},
   "source": [
    "# KeyBERT"
   ]
  },
  {
   "cell_type": "code",
   "execution_count": 8,
   "metadata": {},
   "outputs": [],
   "source": [
    "from keybert import KeyBERT"
   ]
  },
  {
   "cell_type": "code",
   "execution_count": 9,
   "metadata": {},
   "outputs": [],
   "source": [
    "kw_extraction_model = KeyBERT()"
   ]
  },
  {
   "cell_type": "code",
   "execution_count": 10,
   "metadata": {},
   "outputs": [
    {
     "data": {
      "text/plain": [
       "[('href blog migraine', 0.6577),\n",
       " ('migraine specialists href', 0.6382),\n",
       " ('exercise migraine trigger', 0.5994),\n",
       " ('exercise migraine', 0.5611),\n",
       " ('deal exercise migraine', 0.5499),\n",
       " ('href blog exercise', 0.5102),\n",
       " ('blog migraine triggers', 0.4967),\n",
       " ('blog migraine', 0.4926),\n",
       " ('pose migraine com', 0.4917),\n",
       " ('migraine trigger trigger', 0.4848),\n",
       " ('migraine trigger', 0.4786),\n",
       " ('act doing href', 0.4719),\n",
       " ('exacerbate migraine pain', 0.4694),\n",
       " ('migraine triggers ways', 0.4583),\n",
       " ('migraine com', 0.4522),\n",
       " ('like pose migraine', 0.4519),\n",
       " ('doing href blog', 0.4517),\n",
       " ('exacerbate migraine', 0.4493),\n",
       " ('pose migraine', 0.4472),\n",
       " ('doing href', 0.4414)]"
      ]
     },
     "execution_count": 10,
     "metadata": {},
     "output_type": "execute_result"
    }
   ],
   "source": [
    "kw_extraction_model.extract_keywords(posts_df.POST_CONTENT[3],\n",
    "                                     keyphrase_ngram_range=(1, 3), stop_words='english', top_n = 20)"
   ]
  },
  {
   "cell_type": "code",
   "execution_count": 11,
   "metadata": {},
   "outputs": [
    {
     "data": {
      "text/plain": [
       "[('doing href blog', -0.1063),\n",
       " ('like pose migraine', 0.0503),\n",
       " ('act doing href', -0.0075),\n",
       " ('migraine trigger trigger', 0.0559),\n",
       " ('deal exercise migraine', -0.0441)]"
      ]
     },
     "execution_count": 11,
     "metadata": {},
     "output_type": "execute_result"
    }
   ],
   "source": [
    "kw_extraction_model.extract_keywords(posts_df.POST_CONTENT[3],\n",
    "                                     keyphrase_ngram_range=(1, 3), stop_words='english',  use_maxsum=True, nr_candidates=20, top_n=5)"
   ]
  },
  {
   "cell_type": "code",
   "execution_count": 12,
   "metadata": {},
   "outputs": [
    {
     "data": {
      "text/plain": [
       "[('href blog migraine', 0.6577),\n",
       " ('ways deal exercise', 0.3324),\n",
       " ('unique path', 0.3534),\n",
       " ('triggers ways', 0.2805),\n",
       " ('exercise migraine trigger', 0.5994),\n",
       " ('script script src', 0.2188),\n",
       " ('heart rate research', 0.2433),\n",
       " ('act doing href', 0.4719),\n",
       " ('target _blank essentrics', 0.2073),\n",
       " ('position absolute width', 0.0923),\n",
       " ('fast wistia', 0.0894),\n",
       " ('series add comment', 0.065),\n",
       " ('share secrets resources', 0.115),\n",
       " ('shortcode', 0.1378),\n",
       " ('blog exercise', 0.3286),\n",
       " ('does exacerbate', 0.1971),\n",
       " ('pain', 0.1904),\n",
       " ('fits h2 comes', 0.0958),\n",
       " ('sign emails', 0.0481),\n",
       " ('flare ups act', 0.2083)]"
      ]
     },
     "execution_count": 12,
     "metadata": {},
     "output_type": "execute_result"
    }
   ],
   "source": [
    "kw_extraction_model.extract_keywords(posts_df.POST_CONTENT[3],\n",
    "                                     keyphrase_ngram_range=(1, 3), stop_words='english', use_mmr=True, diversity=0.5, top_n = 20 )"
   ]
  },
  {
   "cell_type": "markdown",
   "metadata": {},
   "source": [
    "# API call"
   ]
  },
  {
   "cell_type": "code",
   "execution_count": 13,
   "metadata": {},
   "outputs": [],
   "source": [
    "import requests\n",
    "import json"
   ]
  },
  {
   "cell_type": "code",
   "execution_count": 14,
   "metadata": {},
   "outputs": [],
   "source": [
    "payload = {\n",
    "    'keywords_number':5,\n",
    "    'post_ids': json.dumps(posts_df.head(5).POST_ID.tolist()),\n",
    "    'posts_content': json.dumps(posts_df.head(5).POST_CONTENT.tolist())\n",
    "}"
   ]
  },
  {
   "cell_type": "code",
   "execution_count": 15,
   "metadata": {},
   "outputs": [
    {
     "name": "stdout",
     "output_type": "stream",
     "text": [
      "CPU times: user 33.3 ms, sys: 15.2 ms, total: 48.5 ms\n",
      "Wall time: 8.79 s\n"
     ]
    }
   ],
   "source": [
    "%%time\n",
    "response = requests.get('http://192.168.1.9:8000/api/autokeyword', params = payload)"
   ]
  },
  {
   "cell_type": "code",
   "execution_count": 11,
   "metadata": {},
   "outputs": [
    {
     "data": {
      "text/plain": [
       "[['siblings kids migraine',\n",
       "  'facilitate exciting environments',\n",
       "  'basketball game season',\n",
       "  'anxious taking brother',\n",
       "  'triggers present volunteered'],\n",
       " ['dealing lame animals',\n",
       "  'granddaughter rancher',\n",
       "  'different buying meat',\n",
       "  'sustain family',\n",
       "  'pasture simply live'],\n",
       " ['guilt accompanies migraine',\n",
       "  'health wellness life',\n",
       "  'successful coping mechanism',\n",
       "  'stopped feeling victimized',\n",
       "  'migraine lifetime dealing'],\n",
       " ['decrease migraine flare',\n",
       "  'struggling way exercise',\n",
       "  'video demonstrate essentrics',\n",
       "  'share secrets resources',\n",
       "  'fits allwhen comes'],\n",
       " ['triggers migraineurs diary',\n",
       "  'detective trying solve',\n",
       "  'uncovering patterns pain',\n",
       "  'journal great way',\n",
       "  'causes attacks time']]"
      ]
     },
     "execution_count": 11,
     "metadata": {},
     "output_type": "execute_result"
    }
   ],
   "source": [
    "json.loads(response.text)[\"keywords\"]"
   ]
  },
  {
   "cell_type": "code",
   "execution_count": 12,
   "metadata": {},
   "outputs": [
    {
     "data": {
      "text/plain": [
       "['99918_WP', '99917_WP', '99841_WP', '99838_WP', '99836_WP']"
      ]
     },
     "execution_count": 12,
     "metadata": {},
     "output_type": "execute_result"
    }
   ],
   "source": [
    "json.loads(response.text)[\"post_ids\"]"
   ]
  }
 ],
 "metadata": {
  "kernelspec": {
   "display_name": "Python 3 (ipykernel)",
   "language": "python",
   "name": "python3"
  },
  "language_info": {
   "codemirror_mode": {
    "name": "ipython",
    "version": 3
   },
   "file_extension": ".py",
   "mimetype": "text/x-python",
   "name": "python",
   "nbconvert_exporter": "python",
   "pygments_lexer": "ipython3",
   "version": "3.8.9"
  }
 },
 "nbformat": 4,
 "nbformat_minor": 2
}
