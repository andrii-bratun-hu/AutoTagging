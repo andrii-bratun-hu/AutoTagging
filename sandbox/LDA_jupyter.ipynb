{
 "cells": [
  {
   "cell_type": "code",
   "execution_count": 1,
   "metadata": {},
   "outputs": [],
   "source": [
    "# import pandas as pd"
   ]
  },
  {
   "cell_type": "code",
   "execution_count": 2,
   "metadata": {},
   "outputs": [],
   "source": [
    "# import snowflake.connector as sf"
   ]
  },
  {
   "cell_type": "code",
   "execution_count": 3,
   "metadata": {},
   "outputs": [],
   "source": [
    "# from snowflake.connector import DictCursor\n",
    "\n",
    "# from nltk.tokenize import RegexpTokenizer\n",
    "# from nltk.corpus import stopwords\n",
    "# from nltk.stem.porter import PorterStemmer\n",
    "\n",
    "# from pprint import pprint\n",
    "# import re\n",
    "\n",
    "# # gensim (LDA)\n",
    "# from gensim import corpora, models\n",
    "# \n",
    "# from gensim.models import ldamodel as lda\n",
    "\n",
    "# #spacy for lemmatization\n",
    "# import spacy"
   ]
  },
  {
   "cell_type": "markdown",
   "metadata": {},
   "source": [
    "# Imports"
   ]
  },
  {
   "cell_type": "code",
   "execution_count": 4,
   "metadata": {},
   "outputs": [
    {
     "data": {
      "text/html": [
       "<style>.container { width:90% !important; }</style>"
      ],
      "text/plain": [
       "<IPython.core.display.HTML object>"
      ]
     },
     "metadata": {},
     "output_type": "display_data"
    }
   ],
   "source": [
    "from IPython.core.display import display, HTML\n",
    "display(HTML(\"<style>.container { width:90% !important; }</style>\"))"
   ]
  },
  {
   "cell_type": "code",
   "execution_count": 5,
   "metadata": {},
   "outputs": [],
   "source": [
    "import warnings\n",
    "warnings.filterwarnings(\"ignore\")"
   ]
  },
  {
   "cell_type": "code",
   "execution_count": 6,
   "metadata": {},
   "outputs": [],
   "source": [
    "import pandas as pd\n",
    "import numpy as np\n",
    "\n",
    "import tqdm\n",
    "tqdm.tqdm.pandas()"
   ]
  },
  {
   "cell_type": "markdown",
   "metadata": {},
   "source": [
    "# Pull posts data from snowflake"
   ]
  },
  {
   "cell_type": "code",
   "execution_count": 7,
   "metadata": {},
   "outputs": [],
   "source": [
    "from utils.get_data import get_posts"
   ]
  },
  {
   "cell_type": "code",
   "execution_count": 8,
   "metadata": {},
   "outputs": [],
   "source": [
    "query = \"\"\"\n",
    "    SELECT distinct post_content || 'post_id: ' || post_id as post_content\n",
    "        , post_id || '_' || site_prefix post_id\n",
    "    FROM prod.\"posts\"\n",
    "    WHERE post_status = 'publish' and post_type = 'post'\n",
    "    and site_prefix = 'WP'\n",
    "    ORDER BY POST_ID DESC\n",
    "    LIMIT 20000\n",
    "\"\"\""
   ]
  },
  {
   "cell_type": "code",
   "execution_count": 9,
   "metadata": {},
   "outputs": [],
   "source": [
    "posts_df = get_posts(query)"
   ]
  },
  {
   "cell_type": "code",
   "execution_count": 10,
   "metadata": {},
   "outputs": [
    {
     "data": {
      "text/html": [
       "<div>\n",
       "<style scoped>\n",
       "    .dataframe tbody tr th:only-of-type {\n",
       "        vertical-align: middle;\n",
       "    }\n",
       "\n",
       "    .dataframe tbody tr th {\n",
       "        vertical-align: top;\n",
       "    }\n",
       "\n",
       "    .dataframe thead th {\n",
       "        text-align: right;\n",
       "    }\n",
       "</style>\n",
       "<table border=\"1\" class=\"dataframe\">\n",
       "  <thead>\n",
       "    <tr style=\"text-align: right;\">\n",
       "      <th></th>\n",
       "      <th>POST_CONTENT</th>\n",
       "      <th>POST_ID</th>\n",
       "    </tr>\n",
       "  </thead>\n",
       "  <tbody>\n",
       "    <tr>\n",
       "      <th>0</th>\n",
       "      <td>As a big sister to four very sweet, hilarious,...</td>\n",
       "      <td>99918_WP</td>\n",
       "    </tr>\n",
       "    <tr>\n",
       "      <th>1</th>\n",
       "      <td>I spent my childhood growing up on a farm/ranc...</td>\n",
       "      <td>99917_WP</td>\n",
       "    </tr>\n",
       "    <tr>\n",
       "      <th>2</th>\n",
       "      <td>When am I going to get better at managing the ...</td>\n",
       "      <td>99841_WP</td>\n",
       "    </tr>\n",
       "    <tr>\n",
       "      <th>3</th>\n",
       "      <td>I know I am not alone in struggling to find a ...</td>\n",
       "      <td>99838_WP</td>\n",
       "    </tr>\n",
       "    <tr>\n",
       "      <th>4</th>\n",
       "      <td>If you:\\r\\n&lt;ul&gt;\\r\\n \\t&lt;li&gt;are new to migraine,...</td>\n",
       "      <td>99836_WP</td>\n",
       "    </tr>\n",
       "    <tr>\n",
       "      <th>...</th>\n",
       "      <td>...</td>\n",
       "      <td>...</td>\n",
       "    </tr>\n",
       "    <tr>\n",
       "      <th>3467</th>\n",
       "      <td>We asked our contributors a series of question...</td>\n",
       "      <td>100098_WP</td>\n",
       "    </tr>\n",
       "    <tr>\n",
       "      <th>3468</th>\n",
       "      <td>I feel as though I am always walking a fine li...</td>\n",
       "      <td>100073_WP</td>\n",
       "    </tr>\n",
       "    <tr>\n",
       "      <th>3469</th>\n",
       "      <td>I have used all &lt;a href=\"/migraine-treatment/t...</td>\n",
       "      <td>100062_WP</td>\n",
       "    </tr>\n",
       "    <tr>\n",
       "      <th>3470</th>\n",
       "      <td>and flooded a shared back hallway between a re...</td>\n",
       "      <td>100037_WP</td>\n",
       "    </tr>\n",
       "    <tr>\n",
       "      <th>3471</th>\n",
       "      <td>Although it is only half way through January, ...</td>\n",
       "      <td>100025_WP</td>\n",
       "    </tr>\n",
       "  </tbody>\n",
       "</table>\n",
       "<p>3472 rows × 2 columns</p>\n",
       "</div>"
      ],
      "text/plain": [
       "                                           POST_CONTENT    POST_ID\n",
       "0     As a big sister to four very sweet, hilarious,...   99918_WP\n",
       "1     I spent my childhood growing up on a farm/ranc...   99917_WP\n",
       "2     When am I going to get better at managing the ...   99841_WP\n",
       "3     I know I am not alone in struggling to find a ...   99838_WP\n",
       "4     If you:\\r\\n<ul>\\r\\n \\t<li>are new to migraine,...   99836_WP\n",
       "...                                                 ...        ...\n",
       "3467  We asked our contributors a series of question...  100098_WP\n",
       "3468  I feel as though I am always walking a fine li...  100073_WP\n",
       "3469  I have used all <a href=\"/migraine-treatment/t...  100062_WP\n",
       "3470  and flooded a shared back hallway between a re...  100037_WP\n",
       "3471  Although it is only half way through January, ...  100025_WP\n",
       "\n",
       "[3472 rows x 2 columns]"
      ]
     },
     "execution_count": 10,
     "metadata": {},
     "output_type": "execute_result"
    }
   ],
   "source": [
    "posts_df"
   ]
  },
  {
   "cell_type": "code",
   "execution_count": 11,
   "metadata": {},
   "outputs": [],
   "source": [
    "\n",
    "# #plotting tools\n",
    "# import pyLDAvis\n",
    "# import pyLDAvis.gensim\n",
    "# import matplotlib.pyplot as plt\n",
    "# %matplotlib inline\n",
    "\n",
    "# #enable logging for gensim - optional\n",
    "# import logging\n",
    "# logging.basicConfig(format='%(asctime)s : %(levelname)s : %(message)s', level=logging.ERROR)\n",
    "\n",
    "# import warnings\n",
    "# warnings.filterwarnings(\"ignore\", category=DeprecationWarning)"
   ]
  },
  {
   "cell_type": "markdown",
   "metadata": {},
   "source": [
    "Cleaning Post Text\n",
    "=================="
   ]
  },
  {
   "cell_type": "code",
   "execution_count": 12,
   "metadata": {},
   "outputs": [],
   "source": [
    "from utils.clean_text import remove_html\n",
    "from utils.clean_text import remove_between_square_brackets\n",
    "from utils.clean_text import remove_post_id\n",
    "from utils.clean_text import remove_backslash_symbols"
   ]
  },
  {
   "cell_type": "code",
   "execution_count": 13,
   "metadata": {},
   "outputs": [
    {
     "name": "stderr",
     "output_type": "stream",
     "text": [
      "100%|█████████████████████████████████████████████████████████████████████████████████████████████████████████████████████████████| 3472/3472 [00:03<00:00, 974.02it/s]\n",
      "100%|██████████████████████████████████████████████████████████████████████████████████████████████████████████████████████████| 3472/3472 [00:00<00:00, 123974.15it/s]\n",
      "100%|██████████████████████████████████████████████████████████████████████████████████████████████████████████████████████████| 3472/3472 [00:00<00:00, 154751.96it/s]\n",
      "100%|███████████████████████████████████████████████████████████████████████████████████████████████████████████████████████████| 3472/3472 [00:00<00:00, 93625.63it/s]\n"
     ]
    }
   ],
   "source": [
    "posts_df.POST_CONTENT = posts_df.POST_CONTENT.progress_apply(lambda x: remove_html(x))\n",
    "posts_df.POST_CONTENT = posts_df.POST_CONTENT.progress_apply(lambda x: remove_between_square_brackets(x))\n",
    "posts_df.POST_CONTENT = posts_df.POST_CONTENT.progress_apply(lambda x: remove_post_id(x))\n",
    "posts_df.POST_CONTENT = posts_df.POST_CONTENT.progress_apply(lambda x: remove_backslash_symbols(x))"
   ]
  },
  {
   "cell_type": "markdown",
   "metadata": {},
   "source": [
    "Removing Stopwords\n",
    "================\n",
    "Because we're going to be looking at descriptive words to determine the topics, we want to get rid of common english words that might bias the LDA's topic creations.  [This](https://gist.github.com/sebleier/554280) is a list of the stopwords currently included in the NLTK package. \n",
    "\n",
    "We are also removing 'migraine' from consideration as most posts will have it in the content somewhere, so including it in the LDA will cause most topics to contain the word, which weakens the coherence of the topics. "
   ]
  },
  {
   "cell_type": "markdown",
   "metadata": {},
   "source": [
    "# Post to word"
   ]
  },
  {
   "cell_type": "code",
   "execution_count": 14,
   "metadata": {},
   "outputs": [],
   "source": [
    "dfList = posts_df['POST_CONTENT'].tolist()"
   ]
  },
  {
   "cell_type": "code",
   "execution_count": 15,
   "metadata": {},
   "outputs": [],
   "source": [
    "from gensim.utils import simple_preprocess as gusp\n",
    "\n",
    "def sent_to_words(sentences):\n",
    "        for sentence in sentences:\n",
    "            yield(gusp(str(sentence), deacc=True))\n",
    "            #deacc removes punctuations\n",
    "data_words = list(sent_to_words(posts_df['POST_CONTENT'].tolist()))"
   ]
  },
  {
   "cell_type": "markdown",
   "metadata": {},
   "source": [
    "Bigrams & Trigrams\n",
    "========\n",
    "### Bi-grams and tri-grams allow us to combine two (bi) or three (tri) words that commonly appear together.\n",
    "\n"
   ]
  },
  {
   "cell_type": "code",
   "execution_count": 16,
   "metadata": {},
   "outputs": [],
   "source": [
    "from gensim.models import Phrases as gmp\n",
    "from gensim.models import phrases as gmpp\n",
    "\n",
    "#build the models \n",
    "bigram=gmp(data_words, min_count=5, threshold=10)\n",
    "#higher threshold = fewer phrases\n",
    "trigram=gmp(bigram[data_words], threshold=10)\n",
    "\n",
    "#faster way to get a sentence clubbed as trigram/bigram\n",
    "bigram_mod=gmpp.Phraser(bigram)\n",
    "trigram_mod=gmpp.Phraser(trigram)"
   ]
  },
  {
   "cell_type": "code",
   "execution_count": 17,
   "metadata": {},
   "outputs": [],
   "source": [
    "from nltk.corpus import stopwords\n",
    "stop_words=stopwords.words('english')\n",
    "migraine_stopwords=['migraine', 'migraines', 'post_content', 'post_id']\n",
    "stop_words.extend(migraine_stopwords)\n",
    "\n",
    "\n",
    "#print(trigram_mod[bigram_mod[data_words[0]]])\n",
    "\n",
    "##remove stopwords, make bigrams and lemmatize\n",
    "\n",
    "#define functions for stopwords, bigrams, trigrams, & lemmatization\n",
    "def remove_stopwords(texts):\n",
    "    return[[word for word in gusp(str(doc)) if word not in stop_words] for doc in texts]\n",
    "    \n",
    "def make_bigrams(texts):\n",
    "    return[bigram_mod[doc] for doc in texts]\n",
    "\n",
    "def make_trigrams(texts):\n",
    "    return[trigram_mod[doc] for doc in texts]\n",
    "    \n",
    "def lemmatization(texts, allowed_postags=['NOUN', 'ADJ', 'ADV']):\n",
    "    \"\"\"https://spacy.io/api/annotation\"\"\"\n",
    "    texts_out = []\n",
    "    for sent in texts:\n",
    "        doc = nlp(\" \".join(sent)) \n",
    "        texts_out.append([token.lemma_ for token in doc if token.pos_ in allowed_postags])\n",
    "    return texts_out\n",
    "\n",
    "##call functions in order\n",
    "\n",
    "#remove stop words\n",
    "data_words_nostops=remove_stopwords(data_words)\n",
    "\n",
    "#form bigrams\n",
    "data_words_bigrams = make_bigrams(data_words_nostops)\n",
    "\n",
    "#form trigrams\n",
    "# data_words_trigrams = make_trigrams(data_words_bigrams)"
   ]
  },
  {
   "cell_type": "code",
   "execution_count": 18,
   "metadata": {},
   "outputs": [],
   "source": [
    "import spacy\n",
    "from gensim import corpora, models\n",
    "\n",
    "#initialize spacy 'en' model, keeping only tagger component (for efficiency)\n",
    "nlp = spacy.load('en_core_web_sm', disable=['parser', 'ner'])\n",
    "\n",
    "#lemmatization - keep only noun, adj, verb, adv\n",
    "data_lemmatized = lemmatization(data_words_bigrams)\n",
    "\n",
    "##create dictionary and corpus needed for LDA\n",
    "#dictionary\n",
    "id2word = corpora.Dictionary(data_lemmatized)\n",
    "\n",
    "#corpus\n",
    "texts = data_lemmatized\n",
    "\n",
    "#term doc frequency\n",
    "corpus = [id2word.doc2bow(text) for text in texts]\n",
    "\n",
    "#shows word frequency in document\n",
    "# [[(id2word[id], freq) for id, freq in cp] for cp in corpus[:1]]"
   ]
  },
  {
   "cell_type": "code",
   "execution_count": 19,
   "metadata": {},
   "outputs": [],
   "source": [
    "from gensim.models import ldamodel as lda\n",
    "\n",
    "#build topic model\n",
    "#LDA model\n",
    "lda_model = lda.LdaModel(corpus=corpus, id2word=id2word, num_topics=60, random_state=100, update_every=1, chunksize=100, passes=10, alpha='auto', per_word_topics=True)\n",
    "\n",
    "doc_lda=lda_model[corpus]"
   ]
  },
  {
   "cell_type": "code",
   "execution_count": 20,
   "metadata": {},
   "outputs": [
    {
     "data": {
      "text/plain": [
       "[(3, 0.016747354),\n",
       " (5, 0.25191197),\n",
       " (9, 0.05195418),\n",
       " (17, 0.045398846),\n",
       " (19, 0.011093096),\n",
       " (20, 0.02864925),\n",
       " (24, 0.010347577),\n",
       " (27, 0.15482982),\n",
       " (29, 0.016336074),\n",
       " (30, 0.30756164),\n",
       " (35, 0.01776216),\n",
       " (57, 0.02549048)]"
      ]
     },
     "execution_count": 20,
     "metadata": {},
     "output_type": "execute_result"
    }
   ],
   "source": [
    "lda_model.get_document_topics(corpus[0])"
   ]
  },
  {
   "cell_type": "code",
   "execution_count": 21,
   "metadata": {},
   "outputs": [
    {
     "data": {
      "text/plain": [
       "'As a big sister to four very sweet, hilarious, and very active younger brothers, I always want to provide fun and engaging entertainment whenever I spend time with them. I love to see a huge smile on their faces, and I love being able to provide or facilitate exciting environments and activities.That is why, despite my apprehension because of migraine...I volunteered to take my younger brother to his third basketball game of the season: loud cheering fans, bright lights, that super, incredibly obnoxious horn, screaming preteens, referee whistles and all. Sometimes it can be really tough to keep up with my kid brothers when I am experiencing pain from migraines, and even tougher to navigate that pain when I am in the role of caretaker for someone else.Living with chronic migraine can often entail being caught in situations in which many of us are having to choose between our family, friends, jobs, and livelihoods or migraine. Here, I am going to discuss how I navigate a trigger laden situation and environment where I knew many of my own migraine triggers would be present, but that I decided to go through with because I wanted to support a loved one.Calm before the stormWhile I certainly felt anxious about taking my brother to his basketball game because of all of the possible migraine triggers that would be present, I also felt really guilty for having missed his previous games, and I wanted to spend time with him. When my mom asked me if I could take him, I said yes immediately. It was close to my house, and I thought we could make a day of it: lunch, basketball game, ice cream. It all sounded like a blast. I set an alarm to get up early the morning of the game to retrieve him so we could hang out.But then the anxiety and questions set in: Will I have to wait in the car? Will he be upset with me if I don’t watch all the way through? Should I go in for a little while and leave if I start to feel sick? Am I walking right into a migraine nightmare?Preparation and supportMy partner offered to come along to help with the driving (90 minutes round trip) and to also support my youngest brother at the game. I felt comfort in knowing that my partner would be there if I needed to tag team him in to act as honorary big sibling at the game, help care for me during escalation of an attack should one be induced, and do some of the driving. I also packed my bag full of medicine: migraine meds, allergy meds, inhaler, anxiety medicine, a small cloth, ear plugs and a bottle of water.I still felt anxious that something would turn my fun day into a sour one, but when we picked my brother up from my mom’s, I felt a little relieved. My brother was super excited to be heading to the game. That filled my heart with joy and the anxieties subsided a little. We ate lunch and had a great time catching up on all things pre-teen and soon we were on our way to the game.Out of my head, into the gameI could hear the blare of the referees’ whistles before we even entered the room. The small bleachers were packed, mostly with sleepy looking parents and a ton of very small children. Another game was just finishing up. From the moment we walked in I felt dizzy. Although my migraines can be triggered days before they occur and can last for a really long time, I have a lot of experiences where they are induced by environmental factors such as bright lights, smells (such as fryer oil and perfumes), and loud noises. Here I was in an environment where many of those triggers were present and I’d volunteered to go. Why are sports buzzers so loud?..seriously?BLEAUURGMM. The buzzer had spoken, very loudly. Ouch was my first thought. I’d felt the loudness in my teeth and immediately contemplated going back out to the car. ‘Watch out for me’ I whispered to my partner. It was finally time for my brother’s team to play and I was thinking of leaving the room. But I was also filled with excitement and ready to see him play some ball! That’s why we were there after all. I decided to stay.Worth the stayFor the next thirty minutes I watched intently as my brother played a great game. I felt proud. I shouted ‘GET THE REBOUND’ and ‘Go Blue!’ I clapped and cheered and yes, flinched at every loud sound that occurred during the short game, but I was enjoying myself and enjoying supporting my brother. The most exciting part of the game was a moment in which my brother stole the ball from the opposite team and in an energetic play that had the whole gym watching, took the ball all the way back down the court and made a beautiful layup, for the first points for his team of the game. And... then before I knew it, the game was over. Thank goodness let’s go, I thought after praising my brother for a great game. He asked me if I saw his really great shot, and I was happy to report that I had! We went to get ice cream and my partner drove us to my mom’s while I checked out a bit and rested in the passenger seat. All in all, that day was so much fun and definitely worth it, but yes--by the end of it all my head was pulsing. I balanced doing something I wanted to do for and with my brother with known migraine triggers, and while I won’t be going to the next one, I am really glad I went to this one. I know that it can feel terrible to have to choose between our loved ones and our pain, and sometimes that choice is not even up to us, because the chronic pain can steal moments like this for us. Because of that, I will always cherish this game I got to spend with my brother.\\xa0Do you ever feel like you can’t support your siblings or kids because of migraine? How do you navigate being in high energy, demanding situations as a role model or caretaker while dealing with migraine triggers and symptoms? Let’s discuss in the comments!'"
      ]
     },
     "execution_count": 21,
     "metadata": {},
     "output_type": "execute_result"
    }
   ],
   "source": [
    "posts_df['POST_CONTENT'].tolist()[0]"
   ]
  },
  {
   "cell_type": "code",
   "execution_count": 22,
   "metadata": {},
   "outputs": [
    {
     "name": "stdout",
     "output_type": "stream",
     "text": [
      "[(11,\n",
      "  '0.000*\"oversleeping\" + 0.000*\"pmi\" + 0.000*\"counteract\" + 0.000*\"lamplight\" '\n",
      "  '+ 0.000*\"monologue\" + 0.000*\"brink\" + 0.000*\"accountsexpert\" + 0.000*\"turf\" '\n",
      "  '+ 0.000*\"revery\" + 0.000*\"pmjim\"'),\n",
      " (59,\n",
      "  '0.000*\"oversleeping\" + 0.000*\"pmi\" + 0.000*\"counteract\" + 0.000*\"lamplight\" '\n",
      "  '+ 0.000*\"monologue\" + 0.000*\"brink\" + 0.000*\"accountsexpert\" + 0.000*\"turf\" '\n",
      "  '+ 0.000*\"revery\" + 0.000*\"pmjim\"'),\n",
      " (42,\n",
      "  '0.000*\"oversleeping\" + 0.000*\"pmi\" + 0.000*\"counteract\" + 0.000*\"lamplight\" '\n",
      "  '+ 0.000*\"monologue\" + 0.000*\"brink\" + 0.000*\"accountsexpert\" + 0.000*\"turf\" '\n",
      "  '+ 0.000*\"revery\" + 0.000*\"pmjim\"'),\n",
      " (8,\n",
      "  '0.096*\"fat\" + 0.076*\"butter\" + 0.000*\"oversleeping\" + 0.000*\"turf\" + '\n",
      "  '0.000*\"lamplight\" + 0.000*\"monologue\" + 0.000*\"continue\" + 0.000*\"pmi\" + '\n",
      "  '0.000*\"accountsexpert\" + 0.000*\"pmjim\"'),\n",
      " (18,\n",
      "  '0.064*\"hardly\" + 0.041*\"real_life\" + 0.006*\"consent\" + 0.000*\"brink\" + '\n",
      "  '0.000*\"continue\" + 0.000*\"counteract\" + 0.000*\"bluntly\" + 0.000*\"lamplight\" '\n",
      "  '+ 0.000*\"turf\" + 0.000*\"pmjim\"'),\n",
      " (4,\n",
      "  '0.035*\"co\" + 0.034*\"mere\" + 0.030*\"hypothesis\" + 0.004*\"reckless\" + '\n",
      "  '0.000*\"oversleeping\" + 0.000*\"turf\" + 0.000*\"lamplight\" + 0.000*\"monologue\" '\n",
      "  '+ 0.000*\"continue\" + 0.000*\"acufinder\"'),\n",
      " (21,\n",
      "  '0.105*\"popular\" + 0.075*\"representative\" + 0.038*\"cake\" + 0.018*\"fleeting\" '\n",
      "  '+ 0.009*\"hammer\" + 0.000*\"lamplight\" + 0.000*\"monologue\" + 0.000*\"pmjim\" + '\n",
      "  '0.000*\"oversleeping\" + 0.000*\"turf\"'),\n",
      " (7,\n",
      "  '0.177*\"tooth\" + 0.104*\"temple\" + 0.032*\"patch\" + 0.029*\"less_painful\" + '\n",
      "  '0.000*\"pmi\" + 0.000*\"counteract\" + 0.000*\"lamplight\" + 0.000*\"monologue\" + '\n",
      "  '0.000*\"brink\" + 0.000*\"pmjim\"'),\n",
      " (6,\n",
      "  '0.208*\"author\" + 0.121*\"awesome\" + 0.000*\"lamplight\" + 0.000*\"monologue\" + '\n",
      "  '0.000*\"continue\" + 0.000*\"counteract\" + 0.000*\"bluntly\" + 0.000*\"turf\" + '\n",
      "  '0.000*\"pmi\" + 0.000*\"movie_theatre\"'),\n",
      " (54,\n",
      "  '0.286*\"hemiplegic\" + 0.155*\"infection\" + 0.107*\"injury\" + 0.009*\"follower\" '\n",
      "  '+ 0.000*\"lamplight\" + 0.000*\"monologue\" + 0.000*\"counteract\" + '\n",
      "  '0.000*\"oversleeping\" + 0.000*\"accountsexpert\" + 0.000*\"turf\"'),\n",
      " (30,\n",
      "  '0.049*\"water\" + 0.028*\"fun\" + 0.025*\"hot\" + 0.025*\"caretaker\" + '\n",
      "  '0.024*\"cold\" + 0.024*\"show\" + 0.022*\"music\" + 0.018*\"glass\" + '\n",
      "  '0.017*\"favorite\" + 0.015*\"eye\"'),\n",
      " (52,\n",
      "  '0.182*\"medication\" + 0.063*\"drug\" + 0.048*\"treatment\" + 0.045*\"side_effect\" '\n",
      "  '+ 0.036*\"medicine\" + 0.030*\"new\" + 0.026*\"prescription\" + 0.025*\"relief\" + '\n",
      "  '0.023*\"injection\" + 0.021*\"effective\"'),\n",
      " (39,\n",
      "  '0.036*\"new\" + 0.035*\"information\" + 0.034*\"health\" + 0.032*\"research\" + '\n",
      "  '0.028*\"state\" + 0.028*\"condition\" + 0.023*\"many\" + 0.023*\"insurance\" + '\n",
      "  '0.021*\"issue\" + 0.021*\"specialist\"'),\n",
      " (14,\n",
      "  '0.053*\"community\" + 0.036*\"com\" + 0.031*\"share\" + 0.028*\"event\" + '\n",
      "  '0.028*\"online\" + 0.024*\"video\" + 0.021*\"member\" + 0.021*\"article\" + '\n",
      "  '0.018*\"advocate\" + 0.017*\"awareness\"'),\n",
      " (3,\n",
      "  '0.206*\"attack\" + 0.134*\"symptom\" + 0.036*\"nausea\" + 0.030*\"experience\" + '\n",
      "  '0.029*\"also\" + 0.020*\"severe\" + 0.020*\"often\" + 0.019*\"aura\" + '\n",
      "  '0.017*\"oxygen\" + 0.015*\"episode\"'),\n",
      " (19,\n",
      "  '0.106*\"patient\" + 0.062*\"treatment\" + 0.022*\"pain\" + '\n",
      "  '0.016*\"cluster_headache\" + 0.016*\"also\" + 0.015*\"risk\" + 0.014*\"cluster\" + '\n",
      "  '0.014*\"result\" + 0.013*\"device\" + 0.012*\"dose\"'),\n",
      " (20,\n",
      "  '0.141*\"people\" + 0.053*\"person\" + 0.050*\"life\" + 0.031*\"friend\" + '\n",
      "  '0.026*\"illness\" + 0.024*\"experience\" + 0.022*\"word\" + 0.022*\"talk\" + '\n",
      "  '0.018*\"live\" + 0.016*\"alone\"'),\n",
      " (17,\n",
      "  '0.027*\"help\" + 0.027*\"husband\" + 0.026*\"home\" + 0.025*\"family\" + '\n",
      "  '0.024*\"good\" + 0.022*\"time\" + 0.022*\"able\" + 0.021*\"plan\" + 0.021*\"need\" + '\n",
      "  '0.020*\"friend\"'),\n",
      " (5,\n",
      "  '0.055*\"day\" + 0.048*\"time\" + 0.026*\"pain\" + 0.019*\"still\" + 0.017*\"really\" '\n",
      "  '+ 0.016*\"long\" + 0.016*\"year\" + 0.016*\"first\" + 0.014*\"back\" + 0.014*\"bad\"'),\n",
      " (27,\n",
      "  '0.025*\"way\" + 0.023*\"pain\" + 0.023*\"many\" + 0.019*\"life\" + 0.018*\"well\" + '\n",
      "  '0.017*\"thing\" + 0.017*\"often\" + 0.016*\"even\" + 0.016*\"also\" + '\n",
      "  '0.013*\"other\"')]\n"
     ]
    }
   ],
   "source": [
    "from pprint import pprint\n",
    "pprint(lda_model.print_topics())"
   ]
  },
  {
   "cell_type": "code",
   "execution_count": 23,
   "metadata": {},
   "outputs": [
    {
     "name": "stdout",
     "output_type": "stream",
     "text": [
      "\n",
      "Perplexity:  -19.349306367196295\n",
      "\n",
      "Coherence Score: 0.4276171096514182\n"
     ]
    }
   ],
   "source": [
    "from gensim.models import CoherenceModel\n",
    "\n",
    "##compute perplexity and coherence\n",
    "#perplexity - the lower the better -7.352 (-7.56 after removing HTML and [] content)\n",
    "print('\\nPerplexity: ', lda_model.log_perplexity(corpus))\n",
    "\n",
    "#coherence score 0.421 (.379 after removing HTML and [] content)\n",
    "# 26 topics = 0.477\n",
    "# 20 topics = 0.450\n",
    "coherence_model_lda=CoherenceModel(model=lda_model, texts=data_lemmatized, dictionary=id2word, coherence='c_v')\n",
    "coherence_lda=coherence_model_lda.get_coherence()\n",
    "print('\\nCoherence Score:', coherence_lda)\n"
   ]
  },
  {
   "cell_type": "code",
   "execution_count": 24,
   "metadata": {},
   "outputs": [],
   "source": [
    "import pyLDAvis\n",
    "import pyLDAvis.gensim\n",
    "pyLDAvis.enable_notebook()"
   ]
  },
  {
   "cell_type": "code",
   "execution_count": 25,
   "metadata": {},
   "outputs": [],
   "source": [
    "# #visualize LDA\n",
    "# vis=pyLDAvis.gensim.prepare(lda_model, corpus, id2word)\n",
    "# vis"
   ]
  },
  {
   "cell_type": "code",
   "execution_count": 26,
   "metadata": {},
   "outputs": [],
   "source": [
    "def format_topics_sentences(ldamodel=lda_model, corpus=corpus, texts=dfList):\n",
    "    #init output\n",
    "    sent_topics_df = pd.DataFrame()\n",
    "    \n",
    "    #get main topic in each document\n",
    "    for i, row_list in enumerate(ldamodel[corpus]):\n",
    "        row = row_list[0] if ldamodel.per_word_topics else row_list  \n",
    "        row = sorted(row, key=lambda x:(x[1]), reverse=True)\n",
    "        #get dominant topic, perc contribution, and keywords for each document\n",
    "        for j, (topic_num, prop_topic) in enumerate(row):\n",
    "            if j==0: # => dominant topic\n",
    "                wp = ldamodel.show_topic(topic_num)\n",
    "                topic_keywords = \", \".join([word for word, prop in wp])\n",
    "                sent_topics_df = sent_topics_df.append(pd.Series([int(topic_num), round(prop_topic,4), topic_keywords]), ignore_index=True)\n",
    "            else:\n",
    "                break\n",
    "    sent_topics_df.columns = ['Dominant_Topic', 'Perc_contribution', 'Topic_keywords']\n",
    "    \n",
    "    #add original text to the end\n",
    "    contents = pd.Series(texts)\n",
    "    sent_topics_df = pd.concat([sent_topics_df, contents], axis=1)\n",
    "    return(sent_topics_df)\n",
    "\n",
    "dfList = posts_df['POST_CONTENT'].tolist()\n",
    "df_topic_sents_keywords = format_topics_sentences(ldamodel=lda_model, corpus=corpus, texts=dfList)\n",
    "\n",
    "#format\n",
    "df_dominant_topic = df_topic_sents_keywords.reset_index()\n",
    "df_dominant_topic.columns = ['Document_no', 'Dominant_topic', 'Topic_perc_contrib', 'Keywords', 'Text']\n",
    "\n",
    "#show\n",
    "#df_dominant_topic.head(10)"
   ]
  },
  {
   "cell_type": "code",
   "execution_count": 27,
   "metadata": {},
   "outputs": [
    {
     "data": {
      "text/plain": [
       "23"
      ]
     },
     "execution_count": 27,
     "metadata": {},
     "output_type": "execute_result"
    }
   ],
   "source": [
    "df_dominant_topic.Keywords.nunique()"
   ]
  },
  {
   "cell_type": "code",
   "execution_count": 28,
   "metadata": {},
   "outputs": [
    {
     "data": {
      "text/plain": [
       "way, pain, many, life, well, thing, often, even, also, other                                                         1576\n",
       "day, time, pain, still, really, long, year, first, back, bad                                                         1319\n",
       "patient, treatment, pain, cluster_headache, also, risk, cluster, result, device, dose                                 233\n",
       "medication, drug, treatment, side_effect, medicine, new, prescription, relief, injection, effective                    76\n",
       "new, information, health, research, state, condition, many, insurance, issue, specialist                               64\n",
       "community, com, share, event, online, video, member, article, advocate, awareness                                      45\n",
       "attack, symptom, nausea, experience, also, severe, often, aura, oxygen, episode                                        37\n",
       "headache, diagnosis, individual, condition, disorder, type, age, problem, pain, common                                 27\n",
       "study, cgrp, clinical_trial, percent, researcher, participant, people, research, result, trial                         19\n",
       "help, husband, home, family, good, time, able, plan, need, friend                                                      18\n",
       "promotion, health_union, sponsor, right, winner, law, official_rule, giveaway, prize, connection                       14\n",
       "people, person, life, friend, illness, experience, word, talk, live, alone                                             12\n",
       "car, store, room, meal, bag, sunglass, window, item, heat, bottle                                                       7\n",
       "product, supplement, vitamin, natural, magnesium, oil, chemical, guideline, coffee, substance                           6\n",
       "child, parent, kid, pregnancy, baby, adult, daughter, pregnant, blood_vessel, childhood                                 3\n",
       "trigger, food, diet, alcohol, sugar, chocolate, habit, protein, wine, change                                            3\n",
       "caregiver, survey, health_union, response, tolerable, behavioral, experience, aggregate_form, datum, relate             3\n",
       "chronic, relationship, episodic, partner, career, friendship, fault, psychological, impact, embarrassed                 3\n",
       "story, blog, spring, news, article, incredible, writer, sharing, post, title                                            2\n",
       "water, fun, hot, caretaker, cold, show, music, glass, favorite, eye                                                     2\n",
       "sleep, night, movie, nap, grief, holiday, bed, sun, vision, nervous                                                     1\n",
       "stress, weather, comment_section, complex, overwhelming, temperature, com_community, link, increase, please_share       1\n",
       "doctor, neurologist, appointment, provider, clinic, question, office, city, countless, care                             1\n",
       "Name: Keywords, dtype: int64"
      ]
     },
     "execution_count": 28,
     "metadata": {},
     "output_type": "execute_result"
    }
   ],
   "source": [
    "df_dominant_topic.Keywords.value_counts()"
   ]
  },
  {
   "cell_type": "code",
   "execution_count": 29,
   "metadata": {},
   "outputs": [
    {
     "data": {
      "text/html": [
       "<div>\n",
       "<style scoped>\n",
       "    .dataframe tbody tr th:only-of-type {\n",
       "        vertical-align: middle;\n",
       "    }\n",
       "\n",
       "    .dataframe tbody tr th {\n",
       "        vertical-align: top;\n",
       "    }\n",
       "\n",
       "    .dataframe thead th {\n",
       "        text-align: right;\n",
       "    }\n",
       "</style>\n",
       "<table border=\"1\" class=\"dataframe\">\n",
       "  <thead>\n",
       "    <tr style=\"text-align: right;\">\n",
       "      <th></th>\n",
       "      <th>Document_no</th>\n",
       "      <th>Dominant_topic</th>\n",
       "      <th>Topic_perc_contrib</th>\n",
       "      <th>Keywords</th>\n",
       "      <th>Text</th>\n",
       "    </tr>\n",
       "  </thead>\n",
       "  <tbody>\n",
       "    <tr>\n",
       "      <th>0</th>\n",
       "      <td>0</td>\n",
       "      <td>30.0</td>\n",
       "      <td>0.3076</td>\n",
       "      <td>water, fun, hot, caretaker, cold, show, music,...</td>\n",
       "      <td>As a big sister to four very sweet, hilarious,...</td>\n",
       "    </tr>\n",
       "    <tr>\n",
       "      <th>1</th>\n",
       "      <td>1</td>\n",
       "      <td>5.0</td>\n",
       "      <td>0.2463</td>\n",
       "      <td>day, time, pain, still, really, long, year, fi...</td>\n",
       "      <td>I spent my childhood growing up on a farm/ranc...</td>\n",
       "    </tr>\n",
       "    <tr>\n",
       "      <th>2</th>\n",
       "      <td>2</td>\n",
       "      <td>27.0</td>\n",
       "      <td>0.4332</td>\n",
       "      <td>way, pain, many, life, well, thing, often, eve...</td>\n",
       "      <td>When am I going to get better at managing the ...</td>\n",
       "    </tr>\n",
       "    <tr>\n",
       "      <th>3</th>\n",
       "      <td>3</td>\n",
       "      <td>27.0</td>\n",
       "      <td>0.2939</td>\n",
       "      <td>way, pain, many, life, well, thing, often, eve...</td>\n",
       "      <td>I know I am not alone in struggling to find a ...</td>\n",
       "    </tr>\n",
       "    <tr>\n",
       "      <th>4</th>\n",
       "      <td>4</td>\n",
       "      <td>27.0</td>\n",
       "      <td>0.4152</td>\n",
       "      <td>way, pain, many, life, well, thing, often, eve...</td>\n",
       "      <td>If you:are new to migraine, having been recent...</td>\n",
       "    </tr>\n",
       "    <tr>\n",
       "      <th>...</th>\n",
       "      <td>...</td>\n",
       "      <td>...</td>\n",
       "      <td>...</td>\n",
       "      <td>...</td>\n",
       "      <td>...</td>\n",
       "    </tr>\n",
       "    <tr>\n",
       "      <th>3467</th>\n",
       "      <td>3467</td>\n",
       "      <td>5.0</td>\n",
       "      <td>0.2607</td>\n",
       "      <td>day, time, pain, still, really, long, year, fi...</td>\n",
       "      <td>We asked our contributors a series of question...</td>\n",
       "    </tr>\n",
       "    <tr>\n",
       "      <th>3468</th>\n",
       "      <td>3468</td>\n",
       "      <td>27.0</td>\n",
       "      <td>0.3835</td>\n",
       "      <td>way, pain, many, life, well, thing, often, eve...</td>\n",
       "      <td>I feel as though I am always walking a fine li...</td>\n",
       "    </tr>\n",
       "    <tr>\n",
       "      <th>3469</th>\n",
       "      <td>3469</td>\n",
       "      <td>27.0</td>\n",
       "      <td>0.1756</td>\n",
       "      <td>way, pain, many, life, well, thing, often, eve...</td>\n",
       "      <td>I have used all triptans extensively over 25 y...</td>\n",
       "    </tr>\n",
       "    <tr>\n",
       "      <th>3470</th>\n",
       "      <td>3470</td>\n",
       "      <td>5.0</td>\n",
       "      <td>0.4097</td>\n",
       "      <td>day, time, pain, still, really, long, year, fi...</td>\n",
       "      <td>and flooded a shared back hallway between a re...</td>\n",
       "    </tr>\n",
       "    <tr>\n",
       "      <th>3471</th>\n",
       "      <td>3471</td>\n",
       "      <td>27.0</td>\n",
       "      <td>0.1994</td>\n",
       "      <td>way, pain, many, life, well, thing, often, eve...</td>\n",
       "      <td>Although it is only half way through January, ...</td>\n",
       "    </tr>\n",
       "  </tbody>\n",
       "</table>\n",
       "<p>3472 rows × 5 columns</p>\n",
       "</div>"
      ],
      "text/plain": [
       "      Document_no  Dominant_topic  Topic_perc_contrib  \\\n",
       "0               0            30.0              0.3076   \n",
       "1               1             5.0              0.2463   \n",
       "2               2            27.0              0.4332   \n",
       "3               3            27.0              0.2939   \n",
       "4               4            27.0              0.4152   \n",
       "...           ...             ...                 ...   \n",
       "3467         3467             5.0              0.2607   \n",
       "3468         3468            27.0              0.3835   \n",
       "3469         3469            27.0              0.1756   \n",
       "3470         3470             5.0              0.4097   \n",
       "3471         3471            27.0              0.1994   \n",
       "\n",
       "                                               Keywords  \\\n",
       "0     water, fun, hot, caretaker, cold, show, music,...   \n",
       "1     day, time, pain, still, really, long, year, fi...   \n",
       "2     way, pain, many, life, well, thing, often, eve...   \n",
       "3     way, pain, many, life, well, thing, often, eve...   \n",
       "4     way, pain, many, life, well, thing, often, eve...   \n",
       "...                                                 ...   \n",
       "3467  day, time, pain, still, really, long, year, fi...   \n",
       "3468  way, pain, many, life, well, thing, often, eve...   \n",
       "3469  way, pain, many, life, well, thing, often, eve...   \n",
       "3470  day, time, pain, still, really, long, year, fi...   \n",
       "3471  way, pain, many, life, well, thing, often, eve...   \n",
       "\n",
       "                                                   Text  \n",
       "0     As a big sister to four very sweet, hilarious,...  \n",
       "1     I spent my childhood growing up on a farm/ranc...  \n",
       "2     When am I going to get better at managing the ...  \n",
       "3     I know I am not alone in struggling to find a ...  \n",
       "4     If you:are new to migraine, having been recent...  \n",
       "...                                                 ...  \n",
       "3467  We asked our contributors a series of question...  \n",
       "3468  I feel as though I am always walking a fine li...  \n",
       "3469  I have used all triptans extensively over 25 y...  \n",
       "3470  and flooded a shared back hallway between a re...  \n",
       "3471  Although it is only half way through January, ...  \n",
       "\n",
       "[3472 rows x 5 columns]"
      ]
     },
     "execution_count": 29,
     "metadata": {},
     "output_type": "execute_result"
    }
   ],
   "source": [
    "df_dominant_topic"
   ]
  },
  {
   "cell_type": "code",
   "execution_count": 32,
   "metadata": {},
   "outputs": [
    {
     "data": {
      "text/html": [
       "<div>\n",
       "<style scoped>\n",
       "    .dataframe tbody tr th:only-of-type {\n",
       "        vertical-align: middle;\n",
       "    }\n",
       "\n",
       "    .dataframe tbody tr th {\n",
       "        vertical-align: top;\n",
       "    }\n",
       "\n",
       "    .dataframe thead th {\n",
       "        text-align: right;\n",
       "    }\n",
       "</style>\n",
       "<table border=\"1\" class=\"dataframe\">\n",
       "  <thead>\n",
       "    <tr style=\"text-align: right;\">\n",
       "      <th></th>\n",
       "      <th>Topic_num</th>\n",
       "      <th>Topic_perc_contrib</th>\n",
       "      <th>keywords</th>\n",
       "      <th>text</th>\n",
       "    </tr>\n",
       "  </thead>\n",
       "  <tbody>\n",
       "    <tr>\n",
       "      <th>0</th>\n",
       "      <td>0.0</td>\n",
       "      <td>0.4351</td>\n",
       "      <td>food, trigger, diet, product, supplement, vita...</td>\n",
       "      <td>Fermented foods (and beverages) have been a pa...</td>\n",
       "    </tr>\n",
       "    <tr>\n",
       "      <th>1</th>\n",
       "      <td>1.0</td>\n",
       "      <td>0.1866</td>\n",
       "      <td>mile, race, pee, proper_diagnosis, philadelphi...</td>\n",
       "      <td>January 2018 Update: Check out the 2018 Miles ...</td>\n",
       "    </tr>\n",
       "    <tr>\n",
       "      <th>2</th>\n",
       "      <td>2.0</td>\n",
       "      <td>0.5677</td>\n",
       "      <td>community, com, story, share, article, informa...</td>\n",
       "      <td>Throughout the year, hundreds of our community...</td>\n",
       "    </tr>\n",
       "    <tr>\n",
       "      <th>3</th>\n",
       "      <td>3.0</td>\n",
       "      <td>0.5540</td>\n",
       "      <td>attack, symptom, pain, headache, often, also, ...</td>\n",
       "      <td>For those suffering from migraines, the number...</td>\n",
       "    </tr>\n",
       "    <tr>\n",
       "      <th>4</th>\n",
       "      <td>4.0</td>\n",
       "      <td>0.2486</td>\n",
       "      <td>device, hair, dog, refill, band, technology, b...</td>\n",
       "      <td>I want to talk about one of my new favorite bo...</td>\n",
       "    </tr>\n",
       "    <tr>\n",
       "      <th>5</th>\n",
       "      <td>5.0</td>\n",
       "      <td>0.7841</td>\n",
       "      <td>day, time, pain, really, still, long, back, he...</td>\n",
       "      <td>A couple of days ago I mentioned weird shootin...</td>\n",
       "    </tr>\n",
       "    <tr>\n",
       "      <th>6</th>\n",
       "      <td>8.0</td>\n",
       "      <td>0.8266</td>\n",
       "      <td>promotion, health_union, sponsor, right, winne...</td>\n",
       "      <td>Official Rules, Terms and Conditions for the H...</td>\n",
       "    </tr>\n",
       "    <tr>\n",
       "      <th>7</th>\n",
       "      <td>10.0</td>\n",
       "      <td>0.2421</td>\n",
       "      <td>child, kid, parent, school, habit, adult, holi...</td>\n",
       "      <td>\"I feel so guilty for what my migraine attacks...</td>\n",
       "    </tr>\n",
       "    <tr>\n",
       "      <th>8</th>\n",
       "      <td>13.0</td>\n",
       "      <td>0.6224</td>\n",
       "      <td>time, good, work, well, thing, also, help, hea...</td>\n",
       "      <td>I want to share some advice I've learned about...</td>\n",
       "    </tr>\n",
       "    <tr>\n",
       "      <th>9</th>\n",
       "      <td>14.0</td>\n",
       "      <td>0.5598</td>\n",
       "      <td>body, brain, wife, part, state, son, baby, act...</td>\n",
       "      <td>Surf’s upRiding a wave toward the shore, the p...</td>\n",
       "    </tr>\n",
       "    <tr>\n",
       "      <th>10</th>\n",
       "      <td>16.0</td>\n",
       "      <td>0.4631</td>\n",
       "      <td>disease, patient, research, headache, conditio...</td>\n",
       "      <td>To receive the best possible treatment for Mig...</td>\n",
       "    </tr>\n",
       "    <tr>\n",
       "      <th>11</th>\n",
       "      <td>17.0</td>\n",
       "      <td>0.3542</td>\n",
       "      <td>medication, insurance, prescription, drug, pil...</td>\n",
       "      <td>When migraine makes you clumsy or reduces the ...</td>\n",
       "    </tr>\n",
       "    <tr>\n",
       "      <th>12</th>\n",
       "      <td>19.0</td>\n",
       "      <td>0.7705</td>\n",
       "      <td>doctor, treatment, patient, medication, new, a...</td>\n",
       "      <td>Biohaven Pharmaceuticals announced on March 6,...</td>\n",
       "    </tr>\n",
       "    <tr>\n",
       "      <th>13</th>\n",
       "      <td>20.0</td>\n",
       "      <td>0.6683</td>\n",
       "      <td>life, people, other, pain, many, way, chronic,...</td>\n",
       "      <td>I can almost count the people I know in real l...</td>\n",
       "    </tr>\n",
       "    <tr>\n",
       "      <th>14</th>\n",
       "      <td>21.0</td>\n",
       "      <td>0.4436</td>\n",
       "      <td>light, car, water, music, store, room, heat, b...</td>\n",
       "      <td>Many migraineurs are triggered by strong scent...</td>\n",
       "    </tr>\n",
       "    <tr>\n",
       "      <th>15</th>\n",
       "      <td>23.0</td>\n",
       "      <td>0.3086</td>\n",
       "      <td>study, woman, pregnancy, participant, clinical...</td>\n",
       "      <td>Making decisions can be tough, especially when...</td>\n",
       "    </tr>\n",
       "  </tbody>\n",
       "</table>\n",
       "</div>"
      ],
      "text/plain": [
       "    Topic_num  Topic_perc_contrib  \\\n",
       "0         0.0              0.4351   \n",
       "1         1.0              0.1866   \n",
       "2         2.0              0.5677   \n",
       "3         3.0              0.5540   \n",
       "4         4.0              0.2486   \n",
       "5         5.0              0.7841   \n",
       "6         8.0              0.8266   \n",
       "7        10.0              0.2421   \n",
       "8        13.0              0.6224   \n",
       "9        14.0              0.5598   \n",
       "10       16.0              0.4631   \n",
       "11       17.0              0.3542   \n",
       "12       19.0              0.7705   \n",
       "13       20.0              0.6683   \n",
       "14       21.0              0.4436   \n",
       "15       23.0              0.3086   \n",
       "\n",
       "                                             keywords  \\\n",
       "0   food, trigger, diet, product, supplement, vita...   \n",
       "1   mile, race, pee, proper_diagnosis, philadelphi...   \n",
       "2   community, com, story, share, article, informa...   \n",
       "3   attack, symptom, pain, headache, often, also, ...   \n",
       "4   device, hair, dog, refill, band, technology, b...   \n",
       "5   day, time, pain, really, still, long, back, he...   \n",
       "6   promotion, health_union, sponsor, right, winne...   \n",
       "7   child, kid, parent, school, habit, adult, holi...   \n",
       "8   time, good, work, well, thing, also, help, hea...   \n",
       "9   body, brain, wife, part, state, son, baby, act...   \n",
       "10  disease, patient, research, headache, conditio...   \n",
       "11  medication, insurance, prescription, drug, pil...   \n",
       "12  doctor, treatment, patient, medication, new, a...   \n",
       "13  life, people, other, pain, many, way, chronic,...   \n",
       "14  light, car, water, music, store, room, heat, b...   \n",
       "15  study, woman, pregnancy, participant, clinical...   \n",
       "\n",
       "                                                 text  \n",
       "0   Fermented foods (and beverages) have been a pa...  \n",
       "1   January 2018 Update: Check out the 2018 Miles ...  \n",
       "2   Throughout the year, hundreds of our community...  \n",
       "3   For those suffering from migraines, the number...  \n",
       "4   I want to talk about one of my new favorite bo...  \n",
       "5   A couple of days ago I mentioned weird shootin...  \n",
       "6   Official Rules, Terms and Conditions for the H...  \n",
       "7   \"I feel so guilty for what my migraine attacks...  \n",
       "8   I want to share some advice I've learned about...  \n",
       "9   Surf’s upRiding a wave toward the shore, the p...  \n",
       "10  To receive the best possible treatment for Mig...  \n",
       "11  When migraine makes you clumsy or reduces the ...  \n",
       "12  Biohaven Pharmaceuticals announced on March 6,...  \n",
       "13  I can almost count the people I know in real l...  \n",
       "14  Many migraineurs are triggered by strong scent...  \n",
       "15  Making decisions can be tough, especially when...  "
      ]
     },
     "execution_count": 32,
     "metadata": {},
     "output_type": "execute_result"
    },
    {
     "name": "stderr",
     "output_type": "stream",
     "text": [
      "/Users/abratun/Repos/KeywordExtraction/venv/lib/python3.8/site-packages/past/builtins/misc.py:45: DeprecationWarning: the imp module is deprecated in favour of importlib; see the module's documentation for alternative uses\n",
      "  from imp import reload\n",
      "/Users/abratun/Repos/KeywordExtraction/venv/lib/python3.8/site-packages/past/builtins/misc.py:45: DeprecationWarning: the imp module is deprecated in favour of importlib; see the module's documentation for alternative uses\n",
      "  from imp import reload\n",
      "/Users/abratun/Repos/KeywordExtraction/venv/lib/python3.8/site-packages/past/builtins/misc.py:45: DeprecationWarning: the imp module is deprecated in favour of importlib; see the module's documentation for alternative uses\n",
      "  from imp import reload\n",
      "/Users/abratun/Repos/KeywordExtraction/venv/lib/python3.8/site-packages/past/builtins/misc.py:45: DeprecationWarning: the imp module is deprecated in favour of importlib; see the module's documentation for alternative uses\n",
      "  from imp import reload\n",
      "/Users/abratun/Repos/KeywordExtraction/venv/lib/python3.8/site-packages/past/builtins/misc.py:45: DeprecationWarning: the imp module is deprecated in favour of importlib; see the module's documentation for alternative uses\n",
      "  from imp import reload\n",
      "/Users/abratun/Repos/KeywordExtraction/venv/lib/python3.8/site-packages/past/builtins/misc.py:45: DeprecationWarning: the imp module is deprecated in favour of importlib; see the module's documentation for alternative uses\n",
      "  from imp import reload\n",
      "/Users/abratun/Repos/KeywordExtraction/venv/lib/python3.8/site-packages/past/builtins/misc.py:45: DeprecationWarning: the imp module is deprecated in favour of importlib; see the module's documentation for alternative uses\n",
      "  from imp import reload\n",
      "/Users/abratun/Repos/KeywordExtraction/venv/lib/python3.8/site-packages/past/builtins/misc.py:45: DeprecationWarning: the imp module is deprecated in favour of importlib; see the module's documentation for alternative uses\n",
      "  from imp import reload\n"
     ]
    }
   ],
   "source": [
    "#most representative doc for each topic\n",
    "#group top 5 sentences under each topic\n",
    "sent_topics_sorteddf_mallet = pd.DataFrame()\n",
    "\n",
    "sent_topics_outdf_grpd = df_topic_sents_keywords.groupby('Dominant_Topic')\n",
    "\n",
    "for i, grp in sent_topics_outdf_grpd:\n",
    "    sent_topics_sorteddf_mallet = pd.concat([sent_topics_sorteddf_mallet, grp.sort_values(['Perc_contribution'], ascending=[0]).head(1)], axis=0)\n",
    "\n",
    "#reset index\n",
    "sent_topics_sorteddf_mallet.reset_index(drop=True, inplace=True)\n",
    "\n",
    "#format\n",
    "sent_topics_sorteddf_mallet.columns = ['Topic_num', 'Topic_perc_contrib', 'keywords', 'text']\n",
    "\n",
    "sent_topics_sorteddf_mallet\n",
    "\n",
    "# sent_topics_sorteddf_mallet.to_csv('LDA/most_rep_post_lda.csv')"
   ]
  }
 ],
 "metadata": {
  "kernelspec": {
   "display_name": "Python 3 (ipykernel)",
   "language": "python",
   "name": "python3"
  },
  "language_info": {
   "codemirror_mode": {
    "name": "ipython",
    "version": 3
   },
   "file_extension": ".py",
   "mimetype": "text/x-python",
   "name": "python",
   "nbconvert_exporter": "python",
   "pygments_lexer": "ipython3",
   "version": "3.8.9"
  }
 },
 "nbformat": 4,
 "nbformat_minor": 2
}
